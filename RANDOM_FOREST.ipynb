{
 "cells": [
  {
   "cell_type": "code",
   "execution_count": 2,
   "id": "d35b8436",
   "metadata": {},
   "outputs": [],
   "source": [
    "import pandas as pd"
   ]
  },
  {
   "cell_type": "markdown",
   "id": "ba3aa8cc",
   "metadata": {},
   "source": [
    "READING THE DATA FROM 2014  TO 2018"
   ]
  },
  {
   "cell_type": "code",
   "execution_count": 3,
   "id": "a9a64dc6",
   "metadata": {},
   "outputs": [
    {
     "data": {
      "text/html": [
       "<div>\n",
       "<style scoped>\n",
       "    .dataframe tbody tr th:only-of-type {\n",
       "        vertical-align: middle;\n",
       "    }\n",
       "\n",
       "    .dataframe tbody tr th {\n",
       "        vertical-align: top;\n",
       "    }\n",
       "\n",
       "    .dataframe thead th {\n",
       "        text-align: right;\n",
       "    }\n",
       "</style>\n",
       "<table border=\"1\" class=\"dataframe\">\n",
       "  <thead>\n",
       "    <tr style=\"text-align: right;\">\n",
       "      <th></th>\n",
       "      <th>BRANCH_CODE</th>\n",
       "      <th>Date - Year</th>\n",
       "      <th>Date - Month</th>\n",
       "      <th>Date - Day</th>\n",
       "      <th>Total Ret Sales</th>\n",
       "      <th>Qty Sold Retoff</th>\n",
       "    </tr>\n",
       "  </thead>\n",
       "  <tbody>\n",
       "    <tr>\n",
       "      <th>0</th>\n",
       "      <td>ALM</td>\n",
       "      <td>2018</td>\n",
       "      <td>April</td>\n",
       "      <td>27</td>\n",
       "      <td>5690.47</td>\n",
       "      <td>4.0</td>\n",
       "    </tr>\n",
       "    <tr>\n",
       "      <th>1</th>\n",
       "      <td>ALM</td>\n",
       "      <td>2018</td>\n",
       "      <td>April</td>\n",
       "      <td>29</td>\n",
       "      <td>1333.33</td>\n",
       "      <td>2.0</td>\n",
       "    </tr>\n",
       "    <tr>\n",
       "      <th>2</th>\n",
       "      <td>ALM</td>\n",
       "      <td>2018</td>\n",
       "      <td>April</td>\n",
       "      <td>30</td>\n",
       "      <td>666.66</td>\n",
       "      <td>2.0</td>\n",
       "    </tr>\n",
       "    <tr>\n",
       "      <th>3</th>\n",
       "      <td>ALM</td>\n",
       "      <td>2018</td>\n",
       "      <td>May</td>\n",
       "      <td>1</td>\n",
       "      <td>809.52</td>\n",
       "      <td>1.0</td>\n",
       "    </tr>\n",
       "    <tr>\n",
       "      <th>4</th>\n",
       "      <td>ALM</td>\n",
       "      <td>2018</td>\n",
       "      <td>May</td>\n",
       "      <td>6</td>\n",
       "      <td>14952.39</td>\n",
       "      <td>6.0</td>\n",
       "    </tr>\n",
       "  </tbody>\n",
       "</table>\n",
       "</div>"
      ],
      "text/plain": [
       "  BRANCH_CODE  Date - Year Date - Month  Date - Day  Total Ret Sales  \\\n",
       "0         ALM         2018        April          27          5690.47   \n",
       "1         ALM         2018        April          29          1333.33   \n",
       "2         ALM         2018        April          30           666.66   \n",
       "3         ALM         2018          May           1           809.52   \n",
       "4         ALM         2018          May           6         14952.39   \n",
       "\n",
       "   Qty Sold Retoff  \n",
       "0              4.0  \n",
       "1              2.0  \n",
       "2              2.0  \n",
       "3              1.0  \n",
       "4              6.0  "
      ]
     },
     "execution_count": 3,
     "metadata": {},
     "output_type": "execute_result"
    }
   ],
   "source": [
    "features = pd.read_excel('C:/Users/User/Downloads/Sales & Qty Sold Daily Data.xlsx')\n",
    "features.head(5)"
   ]
  },
  {
   "cell_type": "markdown",
   "id": "cde2913a",
   "metadata": {},
   "source": [
    "MERGING DAY, MONTH, YEAR COLUMNS INTO DATE COLUMN"
   ]
  },
  {
   "cell_type": "code",
   "execution_count": 4,
   "id": "ce73f3d5",
   "metadata": {},
   "outputs": [],
   "source": [
    "features['Date']=pd.to_datetime(features['Date - Month']+features['Date - Year'].astype(str)+features['Date - Day'].astype(str),format='%B%Y%d')"
   ]
  },
  {
   "cell_type": "markdown",
   "id": "e0cfcef4",
   "metadata": {},
   "source": [
    "ONLY SELECTING THE DATA FROM MOE BRANCH "
   ]
  },
  {
   "cell_type": "code",
   "execution_count": 5,
   "id": "3852faf1",
   "metadata": {},
   "outputs": [],
   "source": [
    "features=features[features[\"BRANCH_CODE\"].isin([\"MOE\"])]"
   ]
  },
  {
   "cell_type": "markdown",
   "id": "416aa5b3",
   "metadata": {},
   "source": [
    "CREATING A DATA RANGE FROM 2014 TO 2018"
   ]
  },
  {
   "cell_type": "code",
   "execution_count": 6,
   "id": "dbd635fd",
   "metadata": {},
   "outputs": [
    {
     "name": "stderr",
     "output_type": "stream",
     "text": [
      "C:\\Users\\User\\AppData\\Local\\Temp/ipykernel_8144/2689725883.py:6: FutureWarning: In a future version of pandas all arguments of DataFrame.ffill will be keyword-only.\n",
      "  features=df_date.merge(features, how='left', on='Date').ffill(0)\n"
     ]
    }
   ],
   "source": [
    "df_A=pd.date_range(start='2014-01-01', end='2018-12-31')\n",
    "df_date=pd.DataFrame(df_A)\n",
    "df_date.columns=[\"Date\"]\n",
    "df_date\n",
    "\n",
    "features=df_date.merge(features, how='left', on='Date').ffill(0)"
   ]
  },
  {
   "cell_type": "markdown",
   "id": "5d0cba91",
   "metadata": {},
   "source": [
    "CONVERTING THE COLUMNS HAVING DATE INTO DATE TIME "
   ]
  },
  {
   "cell_type": "code",
   "execution_count": 7,
   "id": "193614de",
   "metadata": {},
   "outputs": [],
   "source": [
    "features['Date - Month']=pd.to_datetime(features['Date - Month'],format=\"%B\")"
   ]
  },
  {
   "cell_type": "code",
   "execution_count": 8,
   "id": "949b6a73",
   "metadata": {},
   "outputs": [],
   "source": [
    "features['Date - Month']=features['Date - Month'].dt.strftime('%m')"
   ]
  },
  {
   "cell_type": "code",
   "execution_count": 9,
   "id": "080f561f",
   "metadata": {},
   "outputs": [],
   "source": [
    "features['Date - Month']=features['Date - Month'].astype(int)"
   ]
  },
  {
   "cell_type": "code",
   "execution_count": null,
   "id": "da722e27",
   "metadata": {},
   "outputs": [],
   "source": []
  },
  {
   "cell_type": "code",
   "execution_count": 10,
   "id": "19d957b5",
   "metadata": {},
   "outputs": [
    {
     "data": {
      "text/html": [
       "<div>\n",
       "<style scoped>\n",
       "    .dataframe tbody tr th:only-of-type {\n",
       "        vertical-align: middle;\n",
       "    }\n",
       "\n",
       "    .dataframe tbody tr th {\n",
       "        vertical-align: top;\n",
       "    }\n",
       "\n",
       "    .dataframe thead th {\n",
       "        text-align: right;\n",
       "    }\n",
       "</style>\n",
       "<table border=\"1\" class=\"dataframe\">\n",
       "  <thead>\n",
       "    <tr style=\"text-align: right;\">\n",
       "      <th></th>\n",
       "      <th>Date - Year</th>\n",
       "      <th>Date - Month</th>\n",
       "      <th>Date - Day</th>\n",
       "      <th>Total Ret Sales</th>\n",
       "      <th>Qty Sold Retoff</th>\n",
       "    </tr>\n",
       "  </thead>\n",
       "  <tbody>\n",
       "    <tr>\n",
       "      <th>count</th>\n",
       "      <td>1826.000000</td>\n",
       "      <td>1826.000000</td>\n",
       "      <td>1826.000000</td>\n",
       "      <td>1826.000000</td>\n",
       "      <td>1826.000000</td>\n",
       "    </tr>\n",
       "    <tr>\n",
       "      <th>mean</th>\n",
       "      <td>2016.000000</td>\n",
       "      <td>6.522453</td>\n",
       "      <td>15.742059</td>\n",
       "      <td>34212.716627</td>\n",
       "      <td>5.247738</td>\n",
       "    </tr>\n",
       "    <tr>\n",
       "      <th>std</th>\n",
       "      <td>1.414214</td>\n",
       "      <td>3.450279</td>\n",
       "      <td>8.801479</td>\n",
       "      <td>48284.211168</td>\n",
       "      <td>3.667523</td>\n",
       "    </tr>\n",
       "    <tr>\n",
       "      <th>min</th>\n",
       "      <td>2014.000000</td>\n",
       "      <td>1.000000</td>\n",
       "      <td>1.000000</td>\n",
       "      <td>-12050.000000</td>\n",
       "      <td>-2.000000</td>\n",
       "    </tr>\n",
       "    <tr>\n",
       "      <th>25%</th>\n",
       "      <td>2015.000000</td>\n",
       "      <td>4.000000</td>\n",
       "      <td>8.000000</td>\n",
       "      <td>10231.250000</td>\n",
       "      <td>3.000000</td>\n",
       "    </tr>\n",
       "    <tr>\n",
       "      <th>50%</th>\n",
       "      <td>2016.000000</td>\n",
       "      <td>7.000000</td>\n",
       "      <td>16.000000</td>\n",
       "      <td>22156.670000</td>\n",
       "      <td>4.450000</td>\n",
       "    </tr>\n",
       "    <tr>\n",
       "      <th>75%</th>\n",
       "      <td>2017.000000</td>\n",
       "      <td>10.000000</td>\n",
       "      <td>23.000000</td>\n",
       "      <td>43000.000000</td>\n",
       "      <td>7.000000</td>\n",
       "    </tr>\n",
       "    <tr>\n",
       "      <th>max</th>\n",
       "      <td>2018.000000</td>\n",
       "      <td>12.000000</td>\n",
       "      <td>31.000000</td>\n",
       "      <td>909490.000000</td>\n",
       "      <td>32.700000</td>\n",
       "    </tr>\n",
       "  </tbody>\n",
       "</table>\n",
       "</div>"
      ],
      "text/plain": [
       "       Date - Year  Date - Month   Date - Day  Total Ret Sales  \\\n",
       "count  1826.000000   1826.000000  1826.000000      1826.000000   \n",
       "mean   2016.000000      6.522453    15.742059     34212.716627   \n",
       "std       1.414214      3.450279     8.801479     48284.211168   \n",
       "min    2014.000000      1.000000     1.000000    -12050.000000   \n",
       "25%    2015.000000      4.000000     8.000000     10231.250000   \n",
       "50%    2016.000000      7.000000    16.000000     22156.670000   \n",
       "75%    2017.000000     10.000000    23.000000     43000.000000   \n",
       "max    2018.000000     12.000000    31.000000    909490.000000   \n",
       "\n",
       "       Qty Sold Retoff  \n",
       "count      1826.000000  \n",
       "mean          5.247738  \n",
       "std           3.667523  \n",
       "min          -2.000000  \n",
       "25%           3.000000  \n",
       "50%           4.450000  \n",
       "75%           7.000000  \n",
       "max          32.700000  "
      ]
     },
     "execution_count": 10,
     "metadata": {},
     "output_type": "execute_result"
    }
   ],
   "source": [
    "features.describe()"
   ]
  },
  {
   "cell_type": "markdown",
   "id": "cf419dd5",
   "metadata": {},
   "source": [
    "ASSIGNING THE YEAR TO NUMBERS "
   ]
  },
  {
   "cell_type": "code",
   "execution_count": 11,
   "id": "e5f9e099",
   "metadata": {},
   "outputs": [],
   "source": [
    "features['Date - Year'] = features['Date - Year'].replace([2014,2015,2016,2017,2018],[1,2,3,4,5,])"
   ]
  },
  {
   "cell_type": "markdown",
   "id": "ea3d68d4",
   "metadata": {},
   "source": [
    "DROPING THE SALES COLUMN"
   ]
  },
  {
   "cell_type": "code",
   "execution_count": 12,
   "id": "aead0429",
   "metadata": {},
   "outputs": [],
   "source": [
    "features=features.drop(['Total Ret Sales'], axis=1)\n",
    "features=features.drop(['Date'], axis=1)"
   ]
  },
  {
   "cell_type": "markdown",
   "id": "596715c3",
   "metadata": {},
   "source": [
    "CHANGE THE DATA TYPE FROM OBJECT INTO INT"
   ]
  },
  {
   "cell_type": "code",
   "execution_count": 13,
   "id": "98cad9e4",
   "metadata": {},
   "outputs": [],
   "source": [
    "features[\"Qty Sold Retoff\"]=features[\"Qty Sold Retoff\"].astype(int)"
   ]
  },
  {
   "cell_type": "code",
   "execution_count": 14,
   "id": "d1e07d70",
   "metadata": {},
   "outputs": [],
   "source": [
    "features[\"Date - Day\"]=features[\"Date - Day\"].astype(int)\n",
    "features[\"Date - Year\"]=features[\"Date - Year\"].astype(int)"
   ]
  },
  {
   "cell_type": "markdown",
   "id": "6f51c25e",
   "metadata": {},
   "source": [
    "CREATING DUMMIES "
   ]
  },
  {
   "cell_type": "code",
   "execution_count": 15,
   "id": "1e780d2c",
   "metadata": {},
   "outputs": [
    {
     "data": {
      "text/html": [
       "<div>\n",
       "<style scoped>\n",
       "    .dataframe tbody tr th:only-of-type {\n",
       "        vertical-align: middle;\n",
       "    }\n",
       "\n",
       "    .dataframe tbody tr th {\n",
       "        vertical-align: top;\n",
       "    }\n",
       "\n",
       "    .dataframe thead th {\n",
       "        text-align: right;\n",
       "    }\n",
       "</style>\n",
       "<table border=\"1\" class=\"dataframe\">\n",
       "  <thead>\n",
       "    <tr style=\"text-align: right;\">\n",
       "      <th></th>\n",
       "      <th>Date - Year</th>\n",
       "      <th>Date - Month</th>\n",
       "      <th>Date - Day</th>\n",
       "      <th>Qty Sold Retoff</th>\n",
       "      <th>BRANCH_CODE_MOE</th>\n",
       "    </tr>\n",
       "  </thead>\n",
       "  <tbody>\n",
       "    <tr>\n",
       "      <th>0</th>\n",
       "      <td>1</td>\n",
       "      <td>1</td>\n",
       "      <td>1</td>\n",
       "      <td>2</td>\n",
       "      <td>1</td>\n",
       "    </tr>\n",
       "    <tr>\n",
       "      <th>1</th>\n",
       "      <td>1</td>\n",
       "      <td>1</td>\n",
       "      <td>2</td>\n",
       "      <td>2</td>\n",
       "      <td>1</td>\n",
       "    </tr>\n",
       "    <tr>\n",
       "      <th>2</th>\n",
       "      <td>1</td>\n",
       "      <td>1</td>\n",
       "      <td>3</td>\n",
       "      <td>6</td>\n",
       "      <td>1</td>\n",
       "    </tr>\n",
       "    <tr>\n",
       "      <th>3</th>\n",
       "      <td>1</td>\n",
       "      <td>1</td>\n",
       "      <td>4</td>\n",
       "      <td>6</td>\n",
       "      <td>1</td>\n",
       "    </tr>\n",
       "    <tr>\n",
       "      <th>4</th>\n",
       "      <td>1</td>\n",
       "      <td>1</td>\n",
       "      <td>5</td>\n",
       "      <td>1</td>\n",
       "      <td>1</td>\n",
       "    </tr>\n",
       "  </tbody>\n",
       "</table>\n",
       "</div>"
      ],
      "text/plain": [
       "   Date - Year  Date - Month  Date - Day  Qty Sold Retoff  BRANCH_CODE_MOE\n",
       "0            1             1           1                2                1\n",
       "1            1             1           2                2                1\n",
       "2            1             1           3                6                1\n",
       "3            1             1           4                6                1\n",
       "4            1             1           5                1                1"
      ]
     },
     "execution_count": 15,
     "metadata": {},
     "output_type": "execute_result"
    }
   ],
   "source": [
    "features = pd.get_dummies(features)\n",
    "features.head()"
   ]
  },
  {
   "cell_type": "markdown",
   "id": "4031c928",
   "metadata": {},
   "source": [
    "WE ARE SEPARATING THE DATA INTO TWO, THE TRAINING SET FROM 2014 TO 2017 AND THE FOR TESTING WE TAKE THE DATA FOR YEAR 2018"
   ]
  },
  {
   "cell_type": "code",
   "execution_count": 16,
   "id": "4a346b00",
   "metadata": {},
   "outputs": [],
   "source": [
    "features2=features[features[\"Date - Year\"]==5]\n",
    "features=features[features[\"Date - Year\"].isin([1,2,3,4])]"
   ]
  },
  {
   "cell_type": "markdown",
   "id": "9c0ffd41",
   "metadata": {},
   "source": [
    "REMOVING THE SALES QTY VALUES AND CONVERTING THE DATA INTO AN ARRAY"
   ]
  },
  {
   "cell_type": "code",
   "execution_count": 17,
   "id": "90977a1c",
   "metadata": {},
   "outputs": [],
   "source": [
    "import numpy as np\n",
    "\n",
    "# Labels are the values we want to predict\n",
    "labels = np.array(features['Qty Sold Retoff'])\n",
    "\n",
    "# Remove the labels from the features\n",
    "# axis 1 refers to the columns\n",
    "features= features.drop('Qty Sold Retoff', axis = 1)\n",
    "\n",
    "# Saving feature names for later use\n",
    "feature_list = list(features.columns)\n",
    "\n",
    "# Convert to numpy array\n",
    "features = np.array(features)"
   ]
  },
  {
   "cell_type": "markdown",
   "id": "d281fcb1",
   "metadata": {},
   "source": [
    "SPLITING TRAIN AND TEST"
   ]
  },
  {
   "cell_type": "code",
   "execution_count": 18,
   "id": "3301fa3f",
   "metadata": {},
   "outputs": [],
   "source": [
    "from sklearn.model_selection import train_test_split"
   ]
  },
  {
   "cell_type": "code",
   "execution_count": 1,
   "id": "8528b207",
   "metadata": {},
   "outputs": [
    {
     "data": {
      "text/plain": [
       "'C:\\\\Users\\\\User\\\\DASH'"
      ]
     },
     "execution_count": 1,
     "metadata": {},
     "output_type": "execute_result"
    }
   ],
   "source": [
    "pwd"
   ]
  },
  {
   "cell_type": "code",
   "execution_count": 19,
   "id": "20f407b5",
   "metadata": {},
   "outputs": [],
   "source": [
    "train_features, test_features, train_labels, test_labels = train_test_split(features, labels, test_size = 0.25,random_state = 42)"
   ]
  },
  {
   "cell_type": "code",
   "execution_count": 20,
   "id": "1ef6a89e",
   "metadata": {},
   "outputs": [
    {
     "name": "stdout",
     "output_type": "stream",
     "text": [
      "Training Features Shape: (1095, 4)\n",
      "Training Labels Shape: (1095,)\n",
      "Testing Features Shape: (366, 4)\n",
      "Testing Labels Shape: (366,)\n"
     ]
    }
   ],
   "source": [
    "print('Training Features Shape:', train_features.shape)\n",
    "print('Training Labels Shape:', train_labels.shape)\n",
    "print('Testing Features Shape:', test_features.shape)\n",
    "print('Testing Labels Shape:', test_labels.shape)"
   ]
  },
  {
   "cell_type": "markdown",
   "id": "b8afd66b",
   "metadata": {},
   "source": [
    "FITTING THE MODEL "
   ]
  },
  {
   "cell_type": "code",
   "execution_count": 21,
   "id": "e7332177",
   "metadata": {},
   "outputs": [],
   "source": [
    "from sklearn.ensemble import RandomForestRegressor\n",
    "\n",
    "# Instantiate model \n",
    "rf = RandomForestRegressor(n_estimators= 1000, random_state=42)\n",
    "\n",
    "# Train the model on training data\n",
    "rf.fit(train_features, train_labels);"
   ]
  },
  {
   "cell_type": "markdown",
   "id": "087b6f92",
   "metadata": {},
   "source": [
    "PREDICTING THE MODEL"
   ]
  },
  {
   "cell_type": "code",
   "execution_count": 22,
   "id": "fd20a4e4",
   "metadata": {},
   "outputs": [
    {
     "name": "stdout",
     "output_type": "stream",
     "text": [
      "Mean Absolute Error: 2.85\n"
     ]
    }
   ],
   "source": [
    "predictions = rf.predict(test_features)\n",
    "\n",
    "# Calculate the absolute errors\n",
    "errors = abs(predictions - test_labels)\n",
    "\n",
    "# Print out the mean absolute error (mae)\n",
    "print('Mean Absolute Error:', round(np.mean(errors), 2))"
   ]
  },
  {
   "cell_type": "code",
   "execution_count": 23,
   "id": "93ad22bf",
   "metadata": {},
   "outputs": [],
   "source": [
    "labels1 = np.array(features2['Qty Sold Retoff'])\n",
    "\n",
    "# Remove the labels from the features\n",
    "# axis 1 refers to the columns\n",
    "features2= features2.drop('Qty Sold Retoff', axis = 1)\n",
    "\n",
    "# Saving feature names for later use\n",
    "feature_list2 = list(features2.columns)\n",
    "\n",
    "# Convert to numpy array\n",
    "features2 = np.array(features2)"
   ]
  },
  {
   "cell_type": "markdown",
   "id": "1492571c",
   "metadata": {},
   "source": [
    "PRREDICTING THE 2018 YEAR UNSEEN DATE SALES"
   ]
  },
  {
   "cell_type": "code",
   "execution_count": 24,
   "id": "ade2316f",
   "metadata": {},
   "outputs": [],
   "source": [
    "predictions1 = rf.predict(features2)"
   ]
  },
  {
   "cell_type": "markdown",
   "id": "34799798",
   "metadata": {},
   "source": [
    "CONVERT THE ARRAY TO A DATAFRAME"
   ]
  },
  {
   "cell_type": "code",
   "execution_count": 25,
   "id": "982599a8",
   "metadata": {},
   "outputs": [],
   "source": [
    "import datetime\n",
    "\n",
    "# Dates of training values\n",
    "months = features2[:, feature_list2.index('Date - Month')]\n",
    "days = features2[:, feature_list2.index('Date - Year')]\n",
    "years = features2[:, feature_list2.index('Date - Day')]\n",
    "\n",
    "# List and then convert to datetime object\n",
    "dates = [str(int(year)) + '-' + str(int(month)) + '-' + str(int(day)) for year, month, day in zip(years, months, days)]\n",
    "\n",
    "dates=pd.DataFrame(dates)\n",
    "dates=dates[0].str.split('-', expand=True)\n",
    "dates[2]=dates[2].astype(int)\n",
    "dates[2]=dates[2].replace([1,2,3,4,5],[2014,2015,2016,2017,2018,])\n",
    "dates[2]=dates[2].astype(str)\n",
    "dates= dates[0]+\"-\"+dates[1]+\"-\"+dates[2]\n",
    "\n",
    "dates = [datetime.datetime.strptime(date, '%d-%m-%Y') for date in dates]\n",
    "\n",
    "# Dataframe with true values and dates\n",
    "true_data = pd.DataFrame(data = {'date': dates, 'qty sales': labels1})\n",
    "\n",
    "# Dates of predictions\n",
    "months = features2[:, feature_list.index('Date - Month')]\n",
    "days = features2[:, feature_list.index('Date - Day')]\n",
    "years = features2[:, feature_list.index('Date - Year')]\n",
    "\n",
    "# Column of dates\n",
    "test_dates = [ str(int(day))+ '-' + str(int(month)) + '-' + str(int(year)) for year, month, day in zip(years, months, days)]\n",
    "\n",
    "test_dates=pd.DataFrame(test_dates)\n",
    "test_dates[0].astype(str)\n",
    "test_dates=test_dates[0].str.split('-', expand=True)\n",
    "test_dates[2]=test_dates[2].astype(int)\n",
    "test_dates[2]=test_dates[2].replace([1,2,3,4,5],[2014,2015,2016,2017,2018,])\n",
    "test_dates[2]=test_dates[2].astype(str)\n",
    "test_dates= test_dates[0]+\"-\"+test_dates[1]+\"-\"+test_dates[2]\n",
    "\n",
    "\n",
    "test_dates = [datetime.datetime.strptime(date, '%d-%m-%Y') for date in test_dates]\n",
    "\n",
    "predictions_data = pd.DataFrame(data = {'date': dates , 'prediction': predictions1}) "
   ]
  },
  {
   "cell_type": "code",
   "execution_count": 26,
   "id": "f70fed0a",
   "metadata": {},
   "outputs": [
    {
     "data": {
      "text/html": [
       "<div>\n",
       "<style scoped>\n",
       "    .dataframe tbody tr th:only-of-type {\n",
       "        vertical-align: middle;\n",
       "    }\n",
       "\n",
       "    .dataframe tbody tr th {\n",
       "        vertical-align: top;\n",
       "    }\n",
       "\n",
       "    .dataframe thead th {\n",
       "        text-align: right;\n",
       "    }\n",
       "</style>\n",
       "<table border=\"1\" class=\"dataframe\">\n",
       "  <thead>\n",
       "    <tr style=\"text-align: right;\">\n",
       "      <th></th>\n",
       "      <th>date</th>\n",
       "      <th>qty sales</th>\n",
       "    </tr>\n",
       "  </thead>\n",
       "  <tbody>\n",
       "    <tr>\n",
       "      <th>0</th>\n",
       "      <td>2018-01-01</td>\n",
       "      <td>5</td>\n",
       "    </tr>\n",
       "    <tr>\n",
       "      <th>1</th>\n",
       "      <td>2018-01-02</td>\n",
       "      <td>6</td>\n",
       "    </tr>\n",
       "    <tr>\n",
       "      <th>2</th>\n",
       "      <td>2018-01-03</td>\n",
       "      <td>2</td>\n",
       "    </tr>\n",
       "    <tr>\n",
       "      <th>3</th>\n",
       "      <td>2018-01-04</td>\n",
       "      <td>1</td>\n",
       "    </tr>\n",
       "    <tr>\n",
       "      <th>4</th>\n",
       "      <td>2018-01-05</td>\n",
       "      <td>8</td>\n",
       "    </tr>\n",
       "    <tr>\n",
       "      <th>...</th>\n",
       "      <td>...</td>\n",
       "      <td>...</td>\n",
       "    </tr>\n",
       "    <tr>\n",
       "      <th>360</th>\n",
       "      <td>2018-12-27</td>\n",
       "      <td>4</td>\n",
       "    </tr>\n",
       "    <tr>\n",
       "      <th>361</th>\n",
       "      <td>2018-12-28</td>\n",
       "      <td>5</td>\n",
       "    </tr>\n",
       "    <tr>\n",
       "      <th>362</th>\n",
       "      <td>2018-12-29</td>\n",
       "      <td>4</td>\n",
       "    </tr>\n",
       "    <tr>\n",
       "      <th>363</th>\n",
       "      <td>2018-12-30</td>\n",
       "      <td>4</td>\n",
       "    </tr>\n",
       "    <tr>\n",
       "      <th>364</th>\n",
       "      <td>2018-12-31</td>\n",
       "      <td>5</td>\n",
       "    </tr>\n",
       "  </tbody>\n",
       "</table>\n",
       "<p>365 rows × 2 columns</p>\n",
       "</div>"
      ],
      "text/plain": [
       "          date  qty sales\n",
       "0   2018-01-01          5\n",
       "1   2018-01-02          6\n",
       "2   2018-01-03          2\n",
       "3   2018-01-04          1\n",
       "4   2018-01-05          8\n",
       "..         ...        ...\n",
       "360 2018-12-27          4\n",
       "361 2018-12-28          5\n",
       "362 2018-12-29          4\n",
       "363 2018-12-30          4\n",
       "364 2018-12-31          5\n",
       "\n",
       "[365 rows x 2 columns]"
      ]
     },
     "execution_count": 26,
     "metadata": {},
     "output_type": "execute_result"
    }
   ],
   "source": [
    "true_data.sort_values(by='date')"
   ]
  },
  {
   "cell_type": "code",
   "execution_count": 27,
   "id": "aa5bfde0",
   "metadata": {},
   "outputs": [
    {
     "data": {
      "text/html": [
       "<div>\n",
       "<style scoped>\n",
       "    .dataframe tbody tr th:only-of-type {\n",
       "        vertical-align: middle;\n",
       "    }\n",
       "\n",
       "    .dataframe tbody tr th {\n",
       "        vertical-align: top;\n",
       "    }\n",
       "\n",
       "    .dataframe thead th {\n",
       "        text-align: right;\n",
       "    }\n",
       "</style>\n",
       "<table border=\"1\" class=\"dataframe\">\n",
       "  <thead>\n",
       "    <tr style=\"text-align: right;\">\n",
       "      <th></th>\n",
       "      <th>date</th>\n",
       "      <th>prediction</th>\n",
       "    </tr>\n",
       "  </thead>\n",
       "  <tbody>\n",
       "    <tr>\n",
       "      <th>0</th>\n",
       "      <td>2018-01-01</td>\n",
       "      <td>9.663</td>\n",
       "    </tr>\n",
       "    <tr>\n",
       "      <th>1</th>\n",
       "      <td>2018-01-02</td>\n",
       "      <td>10.137</td>\n",
       "    </tr>\n",
       "    <tr>\n",
       "      <th>2</th>\n",
       "      <td>2018-01-03</td>\n",
       "      <td>6.747</td>\n",
       "    </tr>\n",
       "    <tr>\n",
       "      <th>3</th>\n",
       "      <td>2018-01-04</td>\n",
       "      <td>6.569</td>\n",
       "    </tr>\n",
       "    <tr>\n",
       "      <th>4</th>\n",
       "      <td>2018-01-05</td>\n",
       "      <td>9.189</td>\n",
       "    </tr>\n",
       "    <tr>\n",
       "      <th>...</th>\n",
       "      <td>...</td>\n",
       "      <td>...</td>\n",
       "    </tr>\n",
       "    <tr>\n",
       "      <th>360</th>\n",
       "      <td>2018-12-27</td>\n",
       "      <td>5.012</td>\n",
       "    </tr>\n",
       "    <tr>\n",
       "      <th>361</th>\n",
       "      <td>2018-12-28</td>\n",
       "      <td>5.431</td>\n",
       "    </tr>\n",
       "    <tr>\n",
       "      <th>362</th>\n",
       "      <td>2018-12-29</td>\n",
       "      <td>7.072</td>\n",
       "    </tr>\n",
       "    <tr>\n",
       "      <th>363</th>\n",
       "      <td>2018-12-30</td>\n",
       "      <td>8.525</td>\n",
       "    </tr>\n",
       "    <tr>\n",
       "      <th>364</th>\n",
       "      <td>2018-12-31</td>\n",
       "      <td>10.842</td>\n",
       "    </tr>\n",
       "  </tbody>\n",
       "</table>\n",
       "<p>365 rows × 2 columns</p>\n",
       "</div>"
      ],
      "text/plain": [
       "          date  prediction\n",
       "0   2018-01-01       9.663\n",
       "1   2018-01-02      10.137\n",
       "2   2018-01-03       6.747\n",
       "3   2018-01-04       6.569\n",
       "4   2018-01-05       9.189\n",
       "..         ...         ...\n",
       "360 2018-12-27       5.012\n",
       "361 2018-12-28       5.431\n",
       "362 2018-12-29       7.072\n",
       "363 2018-12-30       8.525\n",
       "364 2018-12-31      10.842\n",
       "\n",
       "[365 rows x 2 columns]"
      ]
     },
     "execution_count": 27,
     "metadata": {},
     "output_type": "execute_result"
    }
   ],
   "source": [
    "predictions_data.sort_values(by='date')"
   ]
  },
  {
   "cell_type": "markdown",
   "id": "26b72a96",
   "metadata": {},
   "source": [
    "MERGING BOTH TRUE VALUE AND PREDICTIED VALUE"
   ]
  },
  {
   "cell_type": "code",
   "execution_count": 28,
   "id": "af01dd10",
   "metadata": {},
   "outputs": [],
   "source": [
    "df = true_data.merge(predictions_data, how='left', on = 'date')"
   ]
  },
  {
   "cell_type": "markdown",
   "id": "6d96e59e",
   "metadata": {},
   "source": [
    "DROPPING THE NAN VALUES"
   ]
  },
  {
   "cell_type": "code",
   "execution_count": 29,
   "id": "7ace2b9b",
   "metadata": {},
   "outputs": [],
   "source": [
    "df2=df.dropna()"
   ]
  },
  {
   "cell_type": "code",
   "execution_count": 31,
   "id": "8755ca85",
   "metadata": {},
   "outputs": [],
   "source": [
    "df3 = df2.set_index(pd.to_datetime(df2['date']))\n",
    "df3=df3.drop(['date'], axis=1)"
   ]
  },
  {
   "cell_type": "markdown",
   "id": "871a0863",
   "metadata": {},
   "source": [
    "CHECKING THE MEAN  ABSOLUTE ERROR"
   ]
  },
  {
   "cell_type": "code",
   "execution_count": 33,
   "id": "6a9bd3b7",
   "metadata": {},
   "outputs": [],
   "source": [
    "mae=np.abs((df2[\"prediction\"]-df2[\"qty sales\"]))"
   ]
  },
  {
   "cell_type": "code",
   "execution_count": 34,
   "id": "6b30328f",
   "metadata": {},
   "outputs": [
    {
     "data": {
      "text/plain": [
       "3.024"
      ]
     },
     "execution_count": 34,
     "metadata": {},
     "output_type": "execute_result"
    }
   ],
   "source": [
    "mae=mae.mean()\n",
    "round(mae, 3)"
   ]
  },
  {
   "cell_type": "markdown",
   "id": "91de4302",
   "metadata": {},
   "source": [
    "PLOTTING "
   ]
  },
  {
   "cell_type": "code",
   "execution_count": 35,
   "id": "e20f7d9b",
   "metadata": {},
   "outputs": [],
   "source": [
    "df1=df2[[\"date\",\"qty sales\",\"prediction\"]]"
   ]
  },
  {
   "cell_type": "code",
   "execution_count": 36,
   "id": "71558c39",
   "metadata": {},
   "outputs": [],
   "source": [
    "df1 = df1.set_index(pd.to_datetime(df1['date']))"
   ]
  },
  {
   "cell_type": "code",
   "execution_count": 37,
   "id": "f51818d9",
   "metadata": {},
   "outputs": [
    {
     "data": {
      "text/plain": [
       "<AxesSubplot:xlabel='date'>"
      ]
     },
     "execution_count": 37,
     "metadata": {},
     "output_type": "execute_result"
    },
    {
     "data": {
      "image/png": "[encoded data removed]",
      "text/plain": [
       "<Figure size 432x288 with 1 Axes>"
      ]
     },
     "metadata": {
      "needs_background": "light"
     },
     "output_type": "display_data"
    }
   ],
   "source": [
    "df3.plot()"
   ]
  },
  {
   "cell_type": "markdown",
   "id": "c00a2ed5",
   "metadata": {},
   "source": [
    "COMPARING THE SALES VS PREDICTED SALES "
   ]
  },
  {
   "cell_type": "code",
   "execution_count": 38,
   "id": "1fa92b26",
   "metadata": {},
   "outputs": [
    {
     "data": {
      "text/html": [
       "<div>\n",
       "<style scoped>\n",
       "    .dataframe tbody tr th:only-of-type {\n",
       "        vertical-align: middle;\n",
       "    }\n",
       "\n",
       "    .dataframe tbody tr th {\n",
       "        vertical-align: top;\n",
       "    }\n",
       "\n",
       "    .dataframe thead th {\n",
       "        text-align: right;\n",
       "    }\n",
       "</style>\n",
       "<table border=\"1\" class=\"dataframe\">\n",
       "  <thead>\n",
       "    <tr style=\"text-align: right;\">\n",
       "      <th></th>\n",
       "      <th>date</th>\n",
       "      <th>qty sales</th>\n",
       "      <th>prediction</th>\n",
       "    </tr>\n",
       "    <tr>\n",
       "      <th>date</th>\n",
       "      <th></th>\n",
       "      <th></th>\n",
       "      <th></th>\n",
       "    </tr>\n",
       "  </thead>\n",
       "  <tbody>\n",
       "    <tr>\n",
       "      <th>2018-01-01</th>\n",
       "      <td>2018-01-01</td>\n",
       "      <td>5</td>\n",
       "      <td>9.663</td>\n",
       "    </tr>\n",
       "    <tr>\n",
       "      <th>2018-01-02</th>\n",
       "      <td>2018-01-02</td>\n",
       "      <td>6</td>\n",
       "      <td>10.137</td>\n",
       "    </tr>\n",
       "    <tr>\n",
       "      <th>2018-01-03</th>\n",
       "      <td>2018-01-03</td>\n",
       "      <td>2</td>\n",
       "      <td>6.747</td>\n",
       "    </tr>\n",
       "    <tr>\n",
       "      <th>2018-01-04</th>\n",
       "      <td>2018-01-04</td>\n",
       "      <td>1</td>\n",
       "      <td>6.569</td>\n",
       "    </tr>\n",
       "    <tr>\n",
       "      <th>2018-01-05</th>\n",
       "      <td>2018-01-05</td>\n",
       "      <td>8</td>\n",
       "      <td>9.189</td>\n",
       "    </tr>\n",
       "    <tr>\n",
       "      <th>...</th>\n",
       "      <td>...</td>\n",
       "      <td>...</td>\n",
       "      <td>...</td>\n",
       "    </tr>\n",
       "    <tr>\n",
       "      <th>2018-12-27</th>\n",
       "      <td>2018-12-27</td>\n",
       "      <td>4</td>\n",
       "      <td>5.012</td>\n",
       "    </tr>\n",
       "    <tr>\n",
       "      <th>2018-12-28</th>\n",
       "      <td>2018-12-28</td>\n",
       "      <td>5</td>\n",
       "      <td>5.431</td>\n",
       "    </tr>\n",
       "    <tr>\n",
       "      <th>2018-12-29</th>\n",
       "      <td>2018-12-29</td>\n",
       "      <td>4</td>\n",
       "      <td>7.072</td>\n",
       "    </tr>\n",
       "    <tr>\n",
       "      <th>2018-12-30</th>\n",
       "      <td>2018-12-30</td>\n",
       "      <td>4</td>\n",
       "      <td>8.525</td>\n",
       "    </tr>\n",
       "    <tr>\n",
       "      <th>2018-12-31</th>\n",
       "      <td>2018-12-31</td>\n",
       "      <td>5</td>\n",
       "      <td>10.842</td>\n",
       "    </tr>\n",
       "  </tbody>\n",
       "</table>\n",
       "<p>367 rows × 3 columns</p>\n",
       "</div>"
      ],
      "text/plain": [
       "                 date  qty sales  prediction\n",
       "date                                        \n",
       "2018-01-01 2018-01-01          5       9.663\n",
       "2018-01-02 2018-01-02          6      10.137\n",
       "2018-01-03 2018-01-03          2       6.747\n",
       "2018-01-04 2018-01-04          1       6.569\n",
       "2018-01-05 2018-01-05          8       9.189\n",
       "...               ...        ...         ...\n",
       "2018-12-27 2018-12-27          4       5.012\n",
       "2018-12-28 2018-12-28          5       5.431\n",
       "2018-12-29 2018-12-29          4       7.072\n",
       "2018-12-30 2018-12-30          4       8.525\n",
       "2018-12-31 2018-12-31          5      10.842\n",
       "\n",
       "[367 rows x 3 columns]"
      ]
     },
     "execution_count": 38,
     "metadata": {},
     "output_type": "execute_result"
    }
   ],
   "source": [
    "df1"
   ]
  },
  {
   "cell_type": "code",
   "execution_count": null,
   "id": "bfa95bfb",
   "metadata": {},
   "outputs": [],
   "source": []
  }
 ],
 "metadata": {
  "kernelspec": {
   "display_name": "Python 3 (ipykernel)",
   "language": "python",
   "name": "python3"
  },
  "language_info": {
   "codemirror_mode": {
    "name": "ipython",
    "version": 3
   },
   "file_extension": ".py",
   "mimetype": "text/x-python",
   "name": "python",
   "nbconvert_exporter": "python",
   "pygments_lexer": "ipython3",
   "version": "3.8.12"
  }
 },
 "nbformat": 4,
 "nbformat_minor": 5
}
